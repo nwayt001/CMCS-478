{
 "cells": [
  {
   "cell_type": "markdown",
   "id": "095c18c2-5055-4ecc-a22b-4d53335c5f24",
   "metadata": {},
   "source": [
    "# Homework 3\n",
    "\n",
    "Due 11:59PM Monday, March 11 submitted via Blackboard\n",
    "\n"
   ]
  },
  {
   "cell_type": "markdown",
   "id": "a59cd3e2-83ab-4eb7-9d1a-ae686fc09960",
   "metadata": {},
   "source": [
    "In this homework you will explore a couple of different clustering algorithms and understand the impact of various hyperparameters."
   ]
  },
  {
   "cell_type": "code",
   "execution_count": 2,
   "id": "4584b47c-6700-438e-898b-aa2d239e615c",
   "metadata": {},
   "outputs": [],
   "source": [
    "# Imports\n",
    "import numpy as np\n",
    "from sklearn.cluster import KMeans\n",
    "from collections import defaultdict\n",
    "import matplotlib.pyplot as plt\n",
    "import seaborn as sns\n",
    "import random\n",
    "from sklearn.cluster import AgglomerativeClustering"
   ]
  },
  {
   "cell_type": "markdown",
   "id": "d248872a-7b5c-459c-9f60-0c1b486af768",
   "metadata": {},
   "source": [
    "We'll be using the MNIST digits data because it is easy to understand and visualize.  The code below loads the raw data where each instance is a 28x28 grayscale image represented as a vector of 784 integers between 0 and 255.\n",
    "\n",
    "It also loads the digits (0-9) to which each image corresponds.  "
   ]
  },
  {
   "cell_type": "markdown",
   "id": "6590e7e3-ebee-473e-80bf-154136bc84af",
   "metadata": {},
   "source": [
    "# Task 0: Get the data\n",
    "\n",
    "https://redirect.cs.umbc.edu/courses/undergraduate/478/spring2024/mnist_labels.txt\n",
    "https://redirect.cs.umbc.edu/courses/undergraduate/478/spring2024/mnist_data.txt\n",
    "\n",
    "Put the two files above in the same director as this notebook."
   ]
  },
  {
   "cell_type": "code",
   "execution_count": 14,
   "id": "24a2670f-5f55-45ce-a2e8-506958795ec6",
   "metadata": {},
   "outputs": [],
   "source": [
    "X = [np.array(list(map(int, x.split()))) for x in open('mnist_data.txt').readlines()]\n",
    "y = [int(y.strip()) for y in open('mnist_labels.txt').readlines()]"
   ]
  },
  {
   "cell_type": "code",
   "execution_count": 15,
   "id": "ee11a874-6c3c-4b43-bf0c-b31c5a4e621c",
   "metadata": {},
   "outputs": [
    {
     "name": "stdout",
     "output_type": "stream",
     "text": [
      "10000\n",
      "10000\n"
     ]
    }
   ],
   "source": [
    "# Check to ensure that X and y are the same length\n",
    "print(len(X))\n",
    "print(len(y))"
   ]
  },
  {
   "cell_type": "code",
   "execution_count": 16,
   "id": "5d892616-4a0f-4e75-b3e6-9e750171fb22",
   "metadata": {},
   "outputs": [],
   "source": [
    "def plot_digit(digit):\n",
    "    \"Visualize a digit or a cluster centroid\"\n",
    "    \n",
    "    plt.imshow(digit.reshape((28,28)), cmap='gray')\n",
    "    plt.show()"
   ]
  },
  {
   "cell_type": "code",
   "execution_count": 17,
   "id": "d691ffc1-ef2d-4e74-9b8c-56febe5b577f",
   "metadata": {},
   "outputs": [
    {
     "name": "stdout",
     "output_type": "stream",
     "text": [
      "The digit is 3\n"
     ]
    },
    {
     "data": {
      "image/png": "[encoded data removed]",
      "text/plain": [
       "<Figure size 432x288 with 1 Axes>"
      ]
     },
     "metadata": {
      "needs_background": "light"
     },
     "output_type": "display_data"
    }
   ],
   "source": [
    "# You can run this cell multiple times to see different digit examples\n",
    "idx = random.randrange(len(X))\n",
    "print(\"The digit is %d\" % y[idx])\n",
    "plot_digit(X[idx])"
   ]
  },
  {
   "cell_type": "markdown",
   "id": "d4fbd5e1-c220-4db6-b0c0-f7909a0330d0",
   "metadata": {},
   "source": [
    "# Task 1: Get familiar with running k-means\n",
    "\n",
    "Read through the code below because you'll be using the ideas here for the next task"
   ]
  },
  {
   "cell_type": "code",
   "execution_count": 18,
   "id": "741cfd03-18a5-40bf-b5bc-dbf607b62b23",
   "metadata": {},
   "outputs": [],
   "source": [
    "# Create a KMeans object with 5 clusters and random point selection\n",
    "# for cluster initialization\n",
    "\n",
    "clst = KMeans(n_clusters = 5, init = 'random')"
   ]
  },
  {
   "cell_type": "code",
   "execution_count": 19,
   "id": "97bcf7ec-90dc-486b-9d64-9876fea9ab74",
   "metadata": {},
   "outputs": [
    {
     "name": "stderr",
     "output_type": "stream",
     "text": [
      "/Users/oates/tmp/env/anaconda3/lib/python3.8/site-packages/sklearn/cluster/_kmeans.py:1416: FutureWarning: The default value of `n_init` will change from 10 to 'auto' in 1.4. Set the value of `n_init` explicitly to suppress the warning\n",
      "  super()._check_params_vs_input(X, default_n_init=10)\n"
     ]
    },
    {
     "data": {
      "text/html": [
       "<style>#sk-container-id-2 {color: black;}#sk-container-id-2 pre{padding: 0;}#sk-container-id-2 div.sk-toggleable {background-color: white;}#sk-container-id-2 label.sk-toggleable__label {cursor: pointer;display: block;width: 100%;margin-bottom: 0;padding: 0.3em;box-sizing: border-box;text-align: center;}#sk-container-id-2 label.sk-toggleable__label-arrow:before {content: \"▸\";float: left;margin-right: 0.25em;color: #696969;}#sk-container-id-2 label.sk-toggleable__label-arrow:hover:before {color: black;}#sk-container-id-2 div.sk-estimator:hover label.sk-toggleable__label-arrow:before {color: black;}#sk-container-id-2 div.sk-toggleable__content {max-height: 0;max-width: 0;overflow: hidden;text-align: left;background-color: #f0f8ff;}#sk-container-id-2 div.sk-toggleable__content pre {margin: 0.2em;color: black;border-radius: 0.25em;background-color: #f0f8ff;}#sk-container-id-2 input.sk-toggleable__control:checked~div.sk-toggleable__content {max-height: 200px;max-width: 100%;overflow: auto;}#sk-container-id-2 input.sk-toggleable__control:checked~label.sk-toggleable__label-arrow:before {content: \"▾\";}#sk-container-id-2 div.sk-estimator input.sk-toggleable__control:checked~label.sk-toggleable__label {background-color: #d4ebff;}#sk-container-id-2 div.sk-label input.sk-toggleable__control:checked~label.sk-toggleable__label {background-color: #d4ebff;}#sk-container-id-2 input.sk-hidden--visually {border: 0;clip: rect(1px 1px 1px 1px);clip: rect(1px, 1px, 1px, 1px);height: 1px;margin: -1px;overflow: hidden;padding: 0;position: absolute;width: 1px;}#sk-container-id-2 div.sk-estimator {font-family: monospace;background-color: #f0f8ff;border: 1px dotted black;border-radius: 0.25em;box-sizing: border-box;margin-bottom: 0.5em;}#sk-container-id-2 div.sk-estimator:hover {background-color: #d4ebff;}#sk-container-id-2 div.sk-parallel-item::after {content: \"\";width: 100%;border-bottom: 1px solid gray;flex-grow: 1;}#sk-container-id-2 div.sk-label:hover label.sk-toggleable__label {background-color: #d4ebff;}#sk-container-id-2 div.sk-serial::before {content: \"\";position: absolute;border-left: 1px solid gray;box-sizing: border-box;top: 0;bottom: 0;left: 50%;z-index: 0;}#sk-container-id-2 div.sk-serial {display: flex;flex-direction: column;align-items: center;background-color: white;padding-right: 0.2em;padding-left: 0.2em;position: relative;}#sk-container-id-2 div.sk-item {position: relative;z-index: 1;}#sk-container-id-2 div.sk-parallel {display: flex;align-items: stretch;justify-content: center;background-color: white;position: relative;}#sk-container-id-2 div.sk-item::before, #sk-container-id-2 div.sk-parallel-item::before {content: \"\";position: absolute;border-left: 1px solid gray;box-sizing: border-box;top: 0;bottom: 0;left: 50%;z-index: -1;}#sk-container-id-2 div.sk-parallel-item {display: flex;flex-direction: column;z-index: 1;position: relative;background-color: white;}#sk-container-id-2 div.sk-parallel-item:first-child::after {align-self: flex-end;width: 50%;}#sk-container-id-2 div.sk-parallel-item:last-child::after {align-self: flex-start;width: 50%;}#sk-container-id-2 div.sk-parallel-item:only-child::after {width: 0;}#sk-container-id-2 div.sk-dashed-wrapped {border: 1px dashed gray;margin: 0 0.4em 0.5em 0.4em;box-sizing: border-box;padding-bottom: 0.4em;background-color: white;}#sk-container-id-2 div.sk-label label {font-family: monospace;font-weight: bold;display: inline-block;line-height: 1.2em;}#sk-container-id-2 div.sk-label-container {text-align: center;}#sk-container-id-2 div.sk-container {/* jupyter's `normalize.less` sets `[hidden] { display: none; }` but bootstrap.min.css set `[hidden] { display: none !important; }` so we also need the `!important` here to be able to override the default hidden behavior on the sphinx rendered scikit-learn.org. See: https://github.com/scikit-learn/scikit-learn/issues/21755 */display: inline-block !important;position: relative;}#sk-container-id-2 div.sk-text-repr-fallback {display: none;}</style><div id=\"sk-container-id-2\" class=\"sk-top-container\"><div class=\"sk-text-repr-fallback\"><pre>KMeans(init=&#x27;random&#x27;, n_clusters=5)</pre><b>In a Jupyter environment, please rerun this cell to show the HTML representation or trust the notebook. <br />On GitHub, the HTML representation is unable to render, please try loading this page with nbviewer.org.</b></div><div class=\"sk-container\" hidden><div class=\"sk-item\"><div class=\"sk-estimator sk-toggleable\"><input class=\"sk-toggleable__control sk-hidden--visually\" id=\"sk-estimator-id-2\" type=\"checkbox\" checked><label for=\"sk-estimator-id-2\" class=\"sk-toggleable__label sk-toggleable__label-arrow\">KMeans</label><div class=\"sk-toggleable__content\"><pre>KMeans(init=&#x27;random&#x27;, n_clusters=5)</pre></div></div></div></div></div>"
      ],
      "text/plain": [
       "KMeans(init='random', n_clusters=5)"
      ]
     },
     "execution_count": 19,
     "metadata": {},
     "output_type": "execute_result"
    }
   ],
   "source": [
    "# Cluster the data\n",
    "clst.fit(X)"
   ]
  },
  {
   "cell_type": "code",
   "execution_count": 20,
   "id": "26ec6d19-e08f-4459-a82e-b8d9d2d92dbe",
   "metadata": {},
   "outputs": [],
   "source": [
    "def get_cm(clst, y):\n",
    "    \"\"\"\n",
    "    Given a cluster object that has been fit and the true labels for the data\n",
    "    return a confusion matrix where cell (i, j) is the number of times true \n",
    "    class label j occurs in cluster i.\n",
    "    \"\"\"\n",
    "    \n",
    "    cm = np.zeros((np.unique(clst.labels_).shape[0], np.unique(y).shape[0]))\n",
    "\n",
    "    for ypred, ytrue in zip(clst.labels_, y):\n",
    "        cm[ypred][ytrue] += 1\n",
    "        \n",
    "    return cm"
   ]
  },
  {
   "cell_type": "code",
   "execution_count": 21,
   "id": "2172419a-9050-4e1e-b217-8d9fdfb3dcec",
   "metadata": {},
   "outputs": [],
   "source": [
    "def plot_cm(cm):\n",
    "    \"Plot a confusion matrix\"\n",
    "    \n",
    "    s = sns.heatmap(cm, cmap=\"GnBu\", annot=True, fmt='g')\n",
    "    s.set(xlabel='Digit', ylabel='Cluster')\n",
    "    return s"
   ]
  },
  {
   "cell_type": "code",
   "execution_count": 22,
   "id": "5b93b190-078a-48ef-b4ef-e247e1e38c51",
   "metadata": {},
   "outputs": [],
   "source": [
    "# Get the confusion matrix for the 10 cluster case\n",
    "cm = get_cm(clst, y)"
   ]
  },
  {
   "cell_type": "markdown",
   "id": "6413133b-14fc-4d0e-a655-4185b7e6e12a",
   "metadata": {},
   "source": [
    "It's hard to tell what you'll see below due to randomness, but typically there is one cluster with almost all of the 0's.  Find the row for which the 0 column has a very high count.  There is also typically a column that has most of the 1's.  The 4's, 7's, and 8's tend to clump into one cluster.  Look for the row that has high counts for those columns."
   ]
  },
  {
   "cell_type": "code",
   "execution_count": 23,
   "id": "19e9e646-eff7-49c0-8051-ceae37437de3",
   "metadata": {},
   "outputs": [
    {
     "data": {
      "text/plain": [
       "<Axes: xlabel='Digit', ylabel='Cluster'>"
      ]
     },
     "execution_count": 23,
     "metadata": {},
     "output_type": "execute_result"
    },
    {
     "data": {
      "image/png": "[encoded data removed]",
      "text/plain": [
       "<Figure size 432x288 with 2 Axes>"
      ]
     },
     "metadata": {
      "needs_background": "light"
     },
     "output_type": "display_data"
    }
   ],
   "source": [
    "plot_cm(cm)"
   ]
  },
  {
   "cell_type": "code",
   "execution_count": 24,
   "id": "a45c43f5-0497-4a9f-8930-dccc0aee0dd5",
   "metadata": {},
   "outputs": [
    {
     "name": "stdout",
     "output_type": "stream",
     "text": [
      "Cluster ID 0 centroid\n"
     ]
    },
    {
     "data": {
      "image/png": "[encoded data removed]",
      "text/plain": [
       "<Figure size 432x288 with 1 Axes>"
      ]
     },
     "metadata": {
      "needs_background": "light"
     },
     "output_type": "display_data"
    },
    {
     "name": "stdout",
     "output_type": "stream",
     "text": [
      "Cluster ID 1 centroid\n"
     ]
    },
    {
     "data": {
      "image/png": "[encoded data removed]",
      "text/plain": [
       "<Figure size 432x288 with 1 Axes>"
      ]
     },
     "metadata": {
      "needs_background": "light"
     },
     "output_type": "display_data"
    },
    {
     "name": "stdout",
     "output_type": "stream",
     "text": [
      "Cluster ID 2 centroid\n"
     ]
    },
    {
     "data": {
      "image/png": "[encoded data removed]",
      "text/plain": [
       "<Figure size 432x288 with 1 Axes>"
      ]
     },
     "metadata": {
      "needs_background": "light"
     },
     "output_type": "display_data"
    },
    {
     "name": "stdout",
     "output_type": "stream",
     "text": [
      "Cluster ID 3 centroid\n"
     ]
    },
    {
     "data": {
      "image/png": "[encoded data removed]",
      "text/plain": [
       "<Figure size 432x288 with 1 Axes>"
      ]
     },
     "metadata": {
      "needs_background": "light"
     },
     "output_type": "display_data"
    },
    {
     "name": "stdout",
     "output_type": "stream",
     "text": [
      "Cluster ID 4 centroid\n"
     ]
    },
    {
     "data": {
      "image/png": "[encoded data removed]",
      "text/plain": [
       "<Figure size 432x288 with 1 Axes>"
      ]
     },
     "metadata": {
      "needs_background": "light"
     },
     "output_type": "display_data"
    }
   ],
   "source": [
    "# Look at the centroids for all of the clusters\n",
    "for i in range(len(clst.cluster_centers_)):\n",
    "    print(\"Cluster ID %d centroid\" % i)\n",
    "    plot_digit(clst.cluster_centers_[i])"
   ]
  },
  {
   "cell_type": "markdown",
   "id": "85e51e69-791a-42f1-a1c9-1124b9b3b078",
   "metadata": {},
   "source": [
    "# Task 2: Varying k in k-Means\n",
    "\n",
    "For values of k in {2, 10, 15} \n",
    "* cluster the digits\n",
    "* print the confusion matrices\n",
    "* plot the cluster centroids\n",
    "\n",
    "Note that for k = 2, 2-means must combine distinct digits.  For k = 10 you would hope that it has a cluster for each digit in which that digit is by far the most common.  For k = 15 the expectation is that there may be clusters, for example, for the same digit but different ways of writing it (e.g., 9 with a straight bottom vs. 9 with a curled tail at the bottom).\n",
    "\n",
    "For each of the three cases, write a couple of paragraphs on what you observe about the way k-means has clustered the data, why it has done it that way (e.g., certain digits are visually similar, be sure to say which ones and why), and why the cluster centroids look the way they do.  You don't have to talk about all of the clusters, especially in the k = 15 case, but you do need to mention several of them in each case."
   ]
  },
  {
   "cell_type": "markdown",
   "id": "06b67c07-4405-4221-8932-d2462cbf5879",
   "metadata": {},
   "source": [
    "# Task 3: Agglomerative Clustering\n",
    "\n",
    "Read the scikit documentation on Agglomerative Clustering.  There are two important hyperparameters:\n",
    "* linkage, which can take on values ‘ward’, ‘complete’, ‘average’, ‘single’\n",
    "* metric, which can take on values “euclidean”, “l1”, “l2”, “manhattan”, “cosine”\n",
    "\n",
    "Explore combinations of those hyperparameters with n_clusters = 10 and see how close you can get to the ideal of one majority digit per cluster.  \n",
    "* Write a couple of paragraphs explaining what you tried, what worked and what didn't with example confusion matrices.  Include an explanation of **why** you think the best results were a result of the hyperparameters chosen in that case.  Note that you may need to dig through the scikit documentation or use the internet to get more information on their effects."
   ]
  },
  {
   "cell_type": "code",
   "execution_count": null,
   "id": "9f83b067-193a-48bb-82dd-af315f63eaff",
   "metadata": {},
   "outputs": [],
   "source": []
  }
 ],
 "metadata": {
  "kernelspec": {
   "display_name": "Python 3",
   "language": "python",
   "name": "python3"
  },
  "language_info": {
   "codemirror_mode": {
    "name": "ipython",
    "version": 3
   },
   "file_extension": ".py",
   "mimetype": "text/x-python",
   "name": "python",
   "nbconvert_exporter": "python",
   "pygments_lexer": "ipython3",
   "version": "3.8.8"
  }
 },
 "nbformat": 4,
 "nbformat_minor": 5
}
