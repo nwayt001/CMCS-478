{
  "cells": [
    {
      "cell_type": "markdown",
      "metadata": {
        "id": "view-in-github",
        "colab_type": "text"
      },
      "source": [
        "<a href=\"https://colab.research.google.com/github/nwayt001/CMSC-478-Machine-Learning/blob/main/assignments/Homework_1.ipynb\" target=\"_parent\"><img src=\"https://colab.research.google.com/assets/colab-badge.svg\" alt=\"Open In Colab\"/></a>"
      ]
    },
    {
      "cell_type": "code",
      "source": [
        "import math\n",
        "import numpy as np\n",
        "import matplotlib.pyplot as plt"
      ],
      "metadata": {
        "id": "2-pbHSHg_2xB"
      },
      "id": "2-pbHSHg_2xB",
      "execution_count": null,
      "outputs": []
    },
    {
      "cell_type": "markdown",
      "id": "56362576",
      "metadata": {
        "id": "56362576"
      },
      "source": [
        "# Homework 1\n",
        "\n",
        "In this homework you will implement a numerical approach to gradient descent and use it to implement the perceptron algorithm. That will take place in stages described below. But we'll start by describing how to perform gradient descent numerically.\n",
        "The method of finite differences\n",
        "\n",
        "Given a function $f(x)$\n",
        ", the analytical approach to gradient descent - i.e., to finding the value of x that minimizes $f(x)$ - is to compute $f′(x)$ and iterate as follows, where $α∈(0,1]$ is the learning rate:\n",
        "\n",
        "    x = 0\n",
        "    while not converged:\n",
        "        x=x−αf′(x)\n",
        "\n",
        "If you cannot compute $f′(x)$\n",
        "analytically, you can estimate it as follows, for sufficiently small $ϵ$:\n",
        "\n",
        "$$f′(x)≈\\frac{f(x+ϵ)−f(x−ϵ)}{2ϵ}$$\n",
        "\n",
        "The method of finite differences makes the assumption that over very small intervals the function behaves linearly and the slope of the tangent line can be estimated as the difference between function values at the ends of the interval divided by the interval width.\n",
        "\n",
        "For example, the slope of $f(x)=x^2$\n",
        "at $x=1$ can be estimated as $f′(1)=\\frac{(1+0.001)^2−(1−0.001)^2}{2∗0.001}$."
      ]
    },
    {
      "cell_type": "code",
      "source": [
        "e = 0.001\n",
        "(math.pow(1 + e, 2) - math.pow(1 - e, 2))/(2*e)"
      ],
      "metadata": {
        "id": "Ndt-h_gD_S9R"
      },
      "id": "Ndt-h_gD_S9R",
      "execution_count": null,
      "outputs": []
    },
    {
      "cell_type": "markdown",
      "source": [
        "Note that the number above is very close to what you would get analytically by taking derivatives: $f′(x)=2x$ so $f′(1)=2∗1=2$\n",
        "\n",
        "You'll use the method of finite differences to compute the derivative of a loss function with respect to the weights of a perceptron.\n",
        "\n",
        "Below is a simple implementation of the method of finite differences for a univariate function. It is overly simple, running for a fixed number of iterations, and assuming constants for $ϵ$\n",
        "and $α$, but it works for simple cases."
      ],
      "metadata": {
        "id": "K5iMvXsx_Tya"
      },
      "id": "K5iMvXsx_Tya"
    },
    {
      "cell_type": "code",
      "source": [
        "# gradient decent using finite differences to compute the gradient to minimize x\n",
        "def fd_demo(f, x0):\n",
        "    e = 0.001\n",
        "    a = 0.01\n",
        "    x = x0\n",
        "    for _ in range(1000):\n",
        "        g = (f(x + e) - f(x - e)) / (2*e)\n",
        "        x = x - a * g\n",
        "    return x"
      ],
      "metadata": {
        "id": "aHdlHH-9_dWa"
      },
      "id": "aHdlHH-9_dWa",
      "execution_count": null,
      "outputs": []
    },
    {
      "cell_type": "code",
      "source": [
        "# x*x is minimized at 0\n",
        "f = lambda x: x * x\n",
        "fd_demo(f, 2)"
      ],
      "metadata": {
        "colab": {
          "base_uri": "https://localhost:8080/"
        },
        "id": "tbYrTMxA_fmB",
        "outputId": "39475358-fb41-4cd5-dd65-43b650201af1"
      },
      "id": "tbYrTMxA_fmB",
      "execution_count": null,
      "outputs": [
        {
          "output_type": "execute_result",
          "data": {
            "text/plain": [
              "3.365934714445534e-09"
            ]
          },
          "metadata": {},
          "execution_count": 2
        }
      ]
    },
    {
      "cell_type": "code",
      "source": [
        "# sin(x) is minimized at lots of points, the closest to 2 is 3pi/2\n",
        "f = lambda x: math.sin(x)\n",
        "print(fd_demo(f, 2))\n",
        "print(math.pi * 3 / 2)\n"
      ],
      "metadata": {
        "colab": {
          "base_uri": "https://localhost:8080/"
        },
        "id": "IiKhW3hI_u4y",
        "outputId": "484f8520-d365-417a-9278-bf737cc05a95"
      },
      "id": "IiKhW3hI_u4y",
      "execution_count": null,
      "outputs": [
        {
          "output_type": "stream",
          "name": "stdout",
          "text": [
            "4.711986618234112\n",
            "4.71238898038469\n"
          ]
        }
      ]
    },
    {
      "cell_type": "markdown",
      "source": [
        "\n",
        "## Perceptron class\n",
        "\n",
        "Below is a simple Perceptron class that you can use in this assignment. Feel free to use it as is, make changes, or throw it out and write your own. It creates a weight vector with small random numbers when initialized, and has methods to compute the activation for an input and to produce a binary class label for an input.\n",
        "\n",
        "Note that the class below does not maintain an explicit bias term $b$. You can add one or, better yet, make sure that all inputs, $x$, have a $1$ in one of the positions."
      ],
      "metadata": {
        "id": "CjnswN8o_9pW"
      },
      "id": "CjnswN8o_9pW"
    },
    {
      "cell_type": "code",
      "source": [
        "class Perceptron:\n",
        "\n",
        "    def __init__(self, n):\n",
        "        \"\"\"\n",
        "        n (int) - The length of x vectors that the classifier will process.\n",
        "        \"\"\"\n",
        "\n",
        "        # Start with weights uniformly chosen from the range [-0.5, 0.5]\n",
        "        self.weights = (np.random.rand(n) - 0.5).tolist()\n",
        "\n",
        "    def activation(self, x):\n",
        "        return np.dot(x, self.weights)\n",
        "\n",
        "    def predict(self, x):\n",
        "        return 1 if self.activation(x) > 0 else -1\n",
        ""
      ],
      "metadata": {
        "id": "XScGSsDPA3vw"
      },
      "id": "XScGSsDPA3vw",
      "execution_count": null,
      "outputs": []
    },
    {
      "cell_type": "markdown",
      "source": [
        "## The perceptron loss\n",
        "Fill in the function below to compute the hinge loss. Recall that the hinge loss is $0$ if the activation and the class label have the same sign, otherwise it is $-y * $activation."
      ],
      "metadata": {
        "id": "S_Zc6EK8A-Ht"
      },
      "id": "S_Zc6EK8A-Ht"
    },
    {
      "cell_type": "code",
      "source": [
        "def loss_hinge(y, activation):\n",
        "    pass"
      ],
      "metadata": {
        "id": "4qfz4cI4BLYb"
      },
      "id": "4qfz4cI4BLYb",
      "execution_count": null,
      "outputs": []
    },
    {
      "cell_type": "markdown",
      "source": [
        "\n",
        "## Task 2: One step of gradient descent\n",
        "\n",
        "Fill in the function below which takes the following arguments:\n",
        "\n",
        "- clf - An instance of the perceptron class above\n",
        "- x - A training instance\n",
        "- y - The corresponding true class label\n",
        "- learning_rate - A learning rate in the range (0, 1]\n",
        "- loss_fn - A function that takes as input the true class label and the activation and returns a real number which is the loss on that example\n",
        "- epsilon - The delta to use when using the method of finite differences\n",
        "\n",
        "The function must return a new set of weights to use in the perceptron after performing one step of gradient descent update using the training example and loss function. To do that it will:\n",
        "\n",
        "- Loop over each of the weights\n",
        "- Compute the partial derivative of the loss with respect to the weight using the method of finite differences\n",
        "- Use the computed gradient (the list of partials with respect to each of the weights) to compute a new weight vector as $w=w−αg$ where $w$ is the weight vector, $α$ is the learning rate, and $g$ is the computed gradient.\n",
        "- Return the new weight vector\n",
        "\n",
        "Note: Be careful not to modify the weights of the preceptron in place in the routine below."
      ],
      "metadata": {
        "id": "d88xTvlxBONh"
      },
      "id": "d88xTvlxBONh"
    },
    {
      "cell_type": "code",
      "source": [
        "def gd_step(clf, x, y, learning_rate, loss_fn, epsilon = 0.001):\n",
        "    pass\n"
      ],
      "metadata": {
        "id": "PZVz2iitB6dQ"
      },
      "id": "PZVz2iitB6dQ",
      "execution_count": null,
      "outputs": []
    },
    {
      "cell_type": "markdown",
      "source": [
        "\n",
        "###Some training data\n",
        "\n",
        "The code below generates a simple 2D dataset of n positive examples followed by n negative examples. The cell after that plots them. The code also prepends a 1 in each example so that the bias term will simply correspond to the first weight."
      ],
      "metadata": {
        "id": "_4xfoLLhB7Bx"
      },
      "id": "_4xfoLLhB7Bx"
    },
    {
      "cell_type": "code",
      "source": [
        "n = 10\n",
        "X = np.concatenate((np.random.rand(n, 2) + 1,\n",
        "                    np.random.rand(n, 2)))\n",
        "X = np.hstack((np.expand_dims(np.ones(2*n), 1), X))\n",
        "Y = [1] * n + [-1] * n\n",
        "colors = c = ['r'] * n + ['g'] * n\n",
        "\n",
        "# Randomize the order of the instances just for fun\n",
        "rng = np.random.default_rng()\n",
        "state = rng.__getstate__()\n",
        "rng.shuffle(X)\n",
        "rng.__setstate__(state)\n",
        "rng.shuffle(Y)\n",
        "rng.__setstate__(state)\n",
        "rng.shuffle(colors)"
      ],
      "metadata": {
        "id": "ilNhMy0DB_qD"
      },
      "id": "ilNhMy0DB_qD",
      "execution_count": null,
      "outputs": []
    },
    {
      "cell_type": "code",
      "source": [
        "plt.scatter(X[:,1], X[:,2], c = colors)"
      ],
      "metadata": {
        "id": "2zOHTfytCAXK"
      },
      "id": "2zOHTfytCAXK",
      "execution_count": null,
      "outputs": []
    },
    {
      "cell_type": "markdown",
      "source": [
        "## Task 3: Full gradient descent\n",
        "\n",
        "If you've done everthing above correctly, the code below will perform gradient descent to train the classifier.\n",
        "\n",
        "Modify this code so that it runs until one epoch produces no classification errors rather than running for a fixed number of iterations."
      ],
      "metadata": {
        "id": "IoE2h7dZCCxG"
      },
      "id": "IoE2h7dZCCxG"
    },
    {
      "cell_type": "code",
      "source": [
        "clf = Perceptron(3)\n",
        "\n",
        "for epoch in range(100):\n",
        "    for x, y in zip(X, Y):\n",
        "        clf.weights = gd_step(clf, x, y, 0.01, loss_hinge)\n",
        "\n",
        "print(clf.weights)\n"
      ],
      "metadata": {
        "id": "kR5tUfKFCQFE"
      },
      "id": "kR5tUfKFCQFE",
      "execution_count": null,
      "outputs": []
    },
    {
      "cell_type": "markdown",
      "source": [
        "## Task 4: Plot some hyperplanes\n",
        "\n",
        "Run full gradient descent 5 times and write a routine to convert the weights into slope/intercept form. Then use the function below to plot the hyperplanes learned by the perceptron along with the data in one graph. The second cell below shows how that can be done. Write a paragraph explaining what you see in the plot, touching on how much variation there is from run to run and whether the separators seem like \"good\" ones."
      ],
      "metadata": {
        "id": "yHI062PICTFP"
      },
      "id": "yHI062PICTFP"
    },
    {
      "cell_type": "code",
      "source": [
        "def weights_to_slope_intercept(weights):\n",
        "    pass"
      ],
      "metadata": {
        "id": "w4_tvdL9CeHP"
      },
      "id": "w4_tvdL9CeHP",
      "execution_count": null,
      "outputs": []
    },
    {
      "cell_type": "code",
      "source": [
        "def abline(slope, intercept):\n",
        "    \"\"\"Plot a line from slope and intercept\"\"\"\n",
        "    axes = plt.gca()\n",
        "    x_vals = np.array(axes.get_xlim())\n",
        "    y_vals = intercept + slope * x_vals\n",
        "    plt.plot(x_vals, y_vals, '--')\n"
      ],
      "metadata": {
        "id": "dDKLCIbHCfBW"
      },
      "id": "dDKLCIbHCfBW",
      "execution_count": null,
      "outputs": []
    },
    {
      "cell_type": "code",
      "source": [
        "plt.xlim([0, 2])\n",
        "plt.ylim([0, 2])\n",
        "plt.scatter(X[:,1], X[:,2], c = colors)\n",
        "abline(-1, 2)\n",
        "abline(2, 0)"
      ],
      "metadata": {
        "id": "cGsEhpCpChxC"
      },
      "id": "cGsEhpCpChxC",
      "execution_count": null,
      "outputs": []
    },
    {
      "cell_type": "markdown",
      "source": [
        "## Task 5: Do task 4 again with a new loss\n",
        "\n",
        "Repeat The previous task, generating 5 plots of the separators correspond to hyperplanes, but this time use the loss function below.\n",
        "\n",
        "How are the results different? Write a brief paragraph explaining why the results look different."
      ],
      "metadata": {
        "id": "_x22NEvmCkQc"
      },
      "id": "_x22NEvmCkQc"
    },
    {
      "cell_type": "code",
      "source": [
        "def loss_hinge_margin(y, activation):\n",
        "    return 0 if y * activation > 1 else -y * activation + 1"
      ],
      "metadata": {
        "id": "P5Uxi2-FCvaG"
      },
      "id": "P5Uxi2-FCvaG",
      "execution_count": null,
      "outputs": []
    }
  ],
  "metadata": {
    "kernelspec": {
      "display_name": "Python 3",
      "language": "python",
      "name": "python3"
    },
    "language_info": {
      "codemirror_mode": {
        "name": "ipython",
        "version": 3
      },
      "file_extension": ".py",
      "mimetype": "text/x-python",
      "name": "python",
      "nbconvert_exporter": "python",
      "pygments_lexer": "ipython3",
      "version": "3.8.8"
    },
    "colab": {
      "provenance": [],
      "include_colab_link": true
    }
  },
  "nbformat": 4,
  "nbformat_minor": 5
}