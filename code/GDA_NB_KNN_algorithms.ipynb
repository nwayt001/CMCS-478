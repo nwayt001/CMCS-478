{
  "nbformat": 4,
  "nbformat_minor": 0,
  "metadata": {
    "colab": {
      "provenance": [],
      "authorship_tag": "ABX9TyPpi1bDgcfPltBPe7/5LkGd",
      "include_colab_link": true
    },
    "kernelspec": {
      "name": "python3",
      "display_name": "Python 3"
    },
    "language_info": {
      "name": "python"
    }
  },
  "cells": [
    {
      "cell_type": "markdown",
      "metadata": {
        "id": "view-in-github",
        "colab_type": "text"
      },
      "source": [
        "<a href=\"https://colab.research.google.com/github/nwayt001/CMSC-478-Machine-Learning/blob/main/code/GDA_NB_KNN_algorithms.ipynb\" target=\"_parent\"><img src=\"https://colab.research.google.com/assets/colab-badge.svg\" alt=\"Open In Colab\"/></a>"
      ]
    },
    {
      "cell_type": "markdown",
      "source": [
        "# ML Algorithm comparison on simple toy dataset\n",
        "\n",
        "## step 1: Load and visualize the data"
      ],
      "metadata": {
        "id": "vKs4sKf7HtwU"
      }
    },
    {
      "cell_type": "code",
      "execution_count": 10,
      "metadata": {
        "id": "qMWeP1roFqBz",
        "collapsed": true
      },
      "outputs": [],
      "source": [
        "# prompt: load train.txt  and test.txt data. Convert to numpy array\n",
        "import numpy as np\n",
        "\n",
        "# Assuming train.txt and test.txt are in the current directory\n",
        "train_data = np.loadtxt('train.txt')\n",
        "test_data = np.loadtxt('test.txt')\n"
      ]
    }
  ]
}